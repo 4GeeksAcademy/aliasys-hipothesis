{
 "cells": [
  {
   "cell_type": "markdown",
   "id": "d9d036c6",
   "metadata": {},
   "source": [
    "# Problemas de prueba de hipótesis"
   ]
  },
  {
   "cell_type": "code",
   "execution_count": 9,
   "id": "0d518f42",
   "metadata": {},
   "outputs": [],
   "source": [
    "# Importamos las librerias necesarias\n",
    "import scipy.stats as stats\n",
    "import numpy as np\n",
    "from statsmodels.stats.multicomp import pairwise_tukeyhsd\n",
    "import pandas as pd\n",
    "from scipy.stats import ttest_ind"
   ]
  },
  {
   "cell_type": "markdown",
   "id": "d157c4db",
   "metadata": {},
   "source": [
    "## Ejercicio 1\n",
    "\n",
    "Usted es un nutricionista que investiga dos tipos diferentes de dietas para ver si existe una diferencia significativa en la pérdida de peso después de un mes. Eliges dos grupos aleatorios de personas; un grupo sigue la primera dieta y el otro sigue la segunda. Al final del mes, se registra la pérdida de peso (en kg) de cada persona:\n",
    "\n",
    "| Diet 1 | Diet 2 |\n",
    "|:-------|:-------|\n",
    "| 2.0 | 3.0 |\n",
    "| 2.5 | 3.2 |\n",
    "| 3.0 | 3.1 |\n",
    "| 2.8 | 2.9 |\n",
    "| 2.3 | 2.8 |\n",
    "| 2.7 | 3.0 |\n",
    "| 2.5 | 3.2 |\n",
    "\n",
    "Con estos datos se busca responder a la siguiente pregunta: ¿Existe una diferencia significativa en la pérdida de peso promedio entre las personas que siguieron la primera dieta y las que siguieron la segunda dieta?\n",
    "\n",
    "Para sacar conclusiones, siga los siguientes puntos:\n",
    "\n",
    "-Enunciar la hipótesis: hipótesis nula y alternativa.\n",
    "-Realizar la prueba para comprobar la hipótesis. Puede utilizar la prueba t de Student.\n",
    "-Analizar las conclusiones."
   ]
  },
  {
   "cell_type": "markdown",
   "id": "57edbb35",
   "metadata": {},
   "source": [
    "# Enunciamos Hipotesis:\n",
    "- Hipótesis nula (H₀): No hay diferencia en las medias de las dos dietas.\n",
    "- Hipótesis alternativa (H₁): Hay una diferencia significativa en las medias de las dos dietas."
   ]
  },
  {
   "cell_type": "markdown",
   "id": "57d8fa43",
   "metadata": {},
   "source": [
    "-Definicion de significancia"
   ]
  },
  {
   "cell_type": "code",
   "execution_count": 1,
   "id": "a1abac93",
   "metadata": {},
   "outputs": [],
   "source": [
    "alpha = 0.05"
   ]
  },
  {
   "cell_type": "code",
   "execution_count": null,
   "id": "8f48d346",
   "metadata": {},
   "outputs": [],
   "source": [
    "# Datos\n",
    "dieta1 = [2.0, 2.5, 3.0, 2.8, 2.3, 2.7, 2.5]\n",
    "dieta2 = [3.0, 3.2, 3.1, 2.9, 2.8, 3.0, 3.2]"
   ]
  },
  {
   "cell_type": "code",
   "execution_count": null,
   "id": "2aa89c7a",
   "metadata": {},
   "outputs": [
    {
     "data": {
      "text/plain": [
       "'Rechazamos h_o 0.0041'"
      ]
     },
     "execution_count": 12,
     "metadata": {},
     "output_type": "execute_result"
    }
   ],
   "source": [
    "# Dietas \n",
    "dieta1 = [2.0, 2.5, 3.0, 2.8, 2.3, 2.7, 2.5]\n",
    "dieta2 = [3.0, 3.2, 3.1, 2.9, 2.8, 3.0, 3.2]\n",
    "\n",
    "# utilizar la prueba de t-student\n",
    "t_stat, p_value = ttest_ind(dieta1, dieta2)\n",
    "\n",
    "f'Rechazamos h_o {p_value:.4f}' if p_value <= alpha else f'No podemos rechazar H_o {p_value:.4f}'"
   ]
  },
  {
   "cell_type": "markdown",
   "id": "63efa649",
   "metadata": {},
   "source": [
    "## Conclusion:\n",
    ">Existe una diferencia estadísticamente significativa en la pérdida de peso promedio entre las dos dietas. Las personas que siguieron la Dieta 2 perdieron más peso, en promedio."
   ]
  },
  {
   "cell_type": "markdown",
   "id": "f432e18e",
   "metadata": {},
   "source": [
    "## ANOVA\n",
    "\n",
    "**ANOVA** (*Analysis of Variance - Análisis de variación*) Es una técnica estadística utilizada para comparar las medidas de dos o más grupos. La idea detrás de ANOVA es descomponer la variabilidad total de los datos en dos componentes: variabilidad entre grupos y variabilidad dentro de los grupos:\n",
    "\n",
    "- **Variabilidad entre grupos**: Esta variabilidad se refiere a las diferencias entre las medias del grupo. Si esta variabilidad es considerablemente mayor que la variabilidad dentro del grupo, podría ser una indicación de que al menos una de las medias del grupo es diferente.\n",
    "- **Variabilidad dentro del grupo**: Esta variabilidad se refiere a la dispersión de los datos dentro de cada grupo. Si todos los grupos tienen una variabilidad similar, entonces cualquier diferencia notable en las medias de los grupos podría considerarse significativa.\n",
    "\n",
    "Las hipótesis en ANOVA suelen incluir:\n",
    "\n",
    "- **Hipótesis nula** ($H₀$): Las medias de todos los grupos son iguales.\n",
    "- **Hipótesis alternativa** ($H₁$): Al menos una de las medias del grupo es diferente.\n",
    "\n",
    "Si el resultado de la prueba ANOVA es significativo (por ejemplo, un valor p inferior a un umbral como 0,05), esto sugiere que al menos la media de un grupo es diferente."
   ]
  },
  {
   "cell_type": "markdown",
   "id": "fc5f3721",
   "metadata": {},
   "source": [
    "## Ejercicio 2\n",
    "\n",
    "Un agricultor decide probar tres tipos diferentes de fertilizantes para determinar si alguno es superior en términos de producción de maíz. El agricultor planta maíz en 15 parcelas idénticas y utiliza los tres fertilizantes (5 parcelas para cada tipo). Al final de la temporada mide el rendimiento de maíz (en kg) de cada parcela, con el siguiente resultado:\n",
    "\n",
    "| Fertilizante 1 | Fertilizante 2 | Fertilizante 3 |\n",
    "|:-------------|:-------------|:-------------|\n",
    "| 20 | 22 | 24 |\n",
    "| 21 | 21 | 23 |\n",
    "| 20 | 23 | 22 |\n",
    "| 19 | 22 | 23 |\n",
    "| 20 | 21 | 24 |\n",
    "\n",
    "Con estos datos busca responder la siguiente pregunta: ¿Existe una diferencia significativa en el rendimiento promedio del maíz entre los tres tipos de fertilizantes?\n",
    "\n",
    "Para ayudarte, sigue los siguientes puntos:\n",
    "\n",
    "-Enunciar la hipótesis: hipótesis nula y alternativa.\n",
    "-Realizar la prueba ANOVA.\n",
    "-Analizar las conclusiones.\n",
    "-Si un fertilizante es mejor que otro, ¿cómo podemos saberlo?"
   ]
  },
  {
   "cell_type": "markdown",
   "id": "05319983",
   "metadata": {},
   "source": [
    "# Enunciamos la Hipotesis:\n",
    "1.Hipótesis nula (H₀):\n",
    "Todos los fertilizantes tienen el mismo efecto promedio.\n",
    "\n",
    "2.Hipótesis alternativa (H₁):\n",
    "Al menos un fertilizante tiene un efecto diferente"
   ]
  },
  {
   "cell_type": "code",
   "execution_count": null,
   "id": "1689f201",
   "metadata": {},
   "outputs": [
    {
     "name": "stdout",
     "output_type": "stream",
     "text": [
      "Estadístico F: 20.315789473684188\n",
      "Valor p: 0.00014047824793190472\n",
      "Rechazamos la hipótesis nula. Al menos un fertilizante tiene un efecto diferente.\n"
     ]
    }
   ],
   "source": [
    "\n",
    "# Datos de los rendimientos (en kg)\n",
    "fertilizer1 = [20, 21, 20, 19, 20]\n",
    "fertilizer2 = [22, 21, 23, 22, 21]\n",
    "fertilizer3 = [24, 23, 22, 23, 24]\n",
    "\n",
    "# Realizar la prueba ANOVA\n",
    "f_statistic, p_value = stats.f_oneway(fertilizer1, fertilizer2, fertilizer3)\n",
    "\n",
    "# Mostrar resultados\n",
    "print(f\"Estadístico F: {f_statistic}\")\n",
    "print(f\"Valor p: {p_value}\")\n",
    "\n",
    "# Decisión\n",
    "if p_value < 0.05:\n",
    "    print(\"Rechazamos la hipótesis nula. Al menos un fertilizante tiene un efecto diferente.\")\n",
    "else:\n",
    "    print(\"No podemos rechazar la hipótesis nula. Todos los fertilizantes tienen el mismo efecto promedio.\")"
   ]
  },
  {
   "cell_type": "markdown",
   "id": "c93bf4d0",
   "metadata": {},
   "source": [
    "## Conclusion:\n",
    "> la prueba ANOVA no nos dice específicamente cuál de los fertilizantes es mejor que los demás, solo que al menos uno difiere.\n",
    "> Si un fertilizante es mejor que otro, ¿cómo podemos saberlo?\n",
    "> Si rechazamos la hipótesis nula y concluimos que hay una diferencia significativa entre los fertilizantes, es posible que queramos identificar cuáles fertilizantes son diferentes entre sí. \n",
    ">Para esto, utilizamos la prueba de Tukey.\n",
    ">La prueba de Tukey compara todas las parejas de grupos posibles y nos indica qué grupos son significativamente diferentes entre sí."
   ]
  },
  {
   "cell_type": "code",
   "execution_count": null,
   "id": "ef6e309e",
   "metadata": {},
   "outputs": [
    {
     "name": "stdout",
     "output_type": "stream",
     "text": [
      "       Multiple Comparison of Means - Tukey HSD, FWER=0.05        \n",
      "==================================================================\n",
      "    group1         group2     meandiff p-adj  lower  upper  reject\n",
      "------------------------------------------------------------------\n",
      "Fertilizador 1 Fertilizador 2      1.8 0.0099 0.4572 3.1428   True\n",
      "Fertilizador 1 Fertilizador 3      3.2 0.0001 1.8572 4.5428   True\n",
      "Fertilizador 2 Fertilizador 3      1.4 0.0409 0.0572 2.7428   True\n",
      "------------------------------------------------------------------\n"
     ]
    }
   ],
   "source": [
    "\n",
    "# Crear un DataFrame con los datos de los fertilizantes\n",
    "data = {\n",
    "    \"rendimiento\": [20, 21, 20, 19, 20, 22, 21, 23, 22, 21, 24, 23, 22, 23, 24],\n",
    "    \"fertilizante\": [\"Fertilizador 1\"]*5 + [\"Fertilizador 2\"]*5 + [\"Fertilizador 3\"]*5\n",
    "}\n",
    "\n",
    "df = pd.DataFrame(data)\n",
    "\n",
    "# Realizar la prueba de Tukey\n",
    "tukey_result = pairwise_tukeyhsd(df[\"rendimiento\"], df[\"fertilizante\"], alpha=0.05)\n",
    "\n",
    "# Mostrar los resultados de Tukey\n",
    "print(tukey_result)\n"
   ]
  },
  {
   "cell_type": "markdown",
   "id": "f352411a",
   "metadata": {},
   "source": [
    "## Conclusion Final:\n",
    ">Con los resultados de la prueba ANOVA y la prueba de Tukey, podemos concluir que:\n",
    "\n",
    "Hay diferencias significativas en el rendimiento del maíz entre al menos uno de los fertilizantes.\n",
    "\n",
    "Fertilizador 1 y Fertilizador 3 muestran una diferencia significativa, al igual que Fertilizador 2 y Fertilizador 3. Sin embargo, Fertilizador 1 y Fertilizador 2 no muestran una diferencia significativa.\n",
    "\n",
    "El Fertilizador 3 parece ser el que tiene un rendimiento significativamente mejor que los otros dos, basado en las pruebas estadísticas."
   ]
  }
 ],
 "metadata": {
  "kernelspec": {
   "display_name": "Python 3",
   "language": "python",
   "name": "python3"
  },
  "language_info": {
   "codemirror_mode": {
    "name": "ipython",
    "version": 3
   },
   "file_extension": ".py",
   "mimetype": "text/x-python",
   "name": "python",
   "nbconvert_exporter": "python",
   "pygments_lexer": "ipython3",
   "version": "3.11.4"
  }
 },
 "nbformat": 4,
 "nbformat_minor": 5
}
